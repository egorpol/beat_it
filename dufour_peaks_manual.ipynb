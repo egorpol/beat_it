{
 "cells": [
  {
   "cell_type": "code",
   "execution_count": 1,
   "metadata": {
    "executionInfo": {
     "elapsed": 381,
     "status": "ok",
     "timestamp": 1726592709065,
     "user": {
      "displayName": "Egor P",
      "userId": "11648005462717752555"
     },
     "user_tz": -120
    },
    "id": "ySZToeP1695h"
   },
   "outputs": [],
   "source": [
    "# Importing necessary libraries for data manipulation and visualization\n",
    "import pandas as pd\n",
    "import seaborn as sns\n",
    "import matplotlib.pyplot as plt\n",
    "import numpy as np\n",
    "\n",
    "# Setting the Seaborn theme for better visualization clarity\n",
    "sns.set_theme(style=\"whitegrid\")"
   ]
  },
  {
   "cell_type": "code",
   "execution_count": 3,
   "metadata": {
    "colab": {
     "base_uri": "https://localhost:8080/",
     "height": 206
    },
    "executionInfo": {
     "elapsed": 1133,
     "status": "ok",
     "timestamp": 1726610513976,
     "user": {
      "displayName": "Egor P",
      "userId": "11648005462717752555"
     },
     "user_tz": -120
    },
    "id": "MD9N2D3V7N-p",
    "outputId": "3585cb14-2623-49e7-f777-a953c5a97a32"
   },
   "outputs": [
    {
     "data": {
      "text/html": [
       "<div>\n",
       "<style scoped>\n",
       "    .dataframe tbody tr th:only-of-type {\n",
       "        vertical-align: middle;\n",
       "    }\n",
       "\n",
       "    .dataframe tbody tr th {\n",
       "        vertical-align: top;\n",
       "    }\n",
       "\n",
       "    .dataframe thead th {\n",
       "        text-align: right;\n",
       "    }\n",
       "</style>\n",
       "<table border=\"1\" class=\"dataframe\">\n",
       "  <thead>\n",
       "    <tr style=\"text-align: right;\">\n",
       "      <th></th>\n",
       "      <th>peaks_in_sec</th>\n",
       "    </tr>\n",
       "  </thead>\n",
       "  <tbody>\n",
       "    <tr>\n",
       "      <th>0</th>\n",
       "      <td>0.398730</td>\n",
       "    </tr>\n",
       "    <tr>\n",
       "      <th>1</th>\n",
       "      <td>2.623492</td>\n",
       "    </tr>\n",
       "    <tr>\n",
       "      <th>2</th>\n",
       "      <td>4.863492</td>\n",
       "    </tr>\n",
       "    <tr>\n",
       "      <th>3</th>\n",
       "      <td>7.080635</td>\n",
       "    </tr>\n",
       "    <tr>\n",
       "      <th>4</th>\n",
       "      <td>9.340952</td>\n",
       "    </tr>\n",
       "    <tr>\n",
       "      <th>5</th>\n",
       "      <td>11.553016</td>\n",
       "    </tr>\n",
       "    <tr>\n",
       "      <th>6</th>\n",
       "      <td>13.782857</td>\n",
       "    </tr>\n",
       "    <tr>\n",
       "      <th>7</th>\n",
       "      <td>16.017778</td>\n",
       "    </tr>\n",
       "    <tr>\n",
       "      <th>8</th>\n",
       "      <td>18.245079</td>\n",
       "    </tr>\n",
       "    <tr>\n",
       "      <th>9</th>\n",
       "      <td>20.490159</td>\n",
       "    </tr>\n",
       "    <tr>\n",
       "      <th>10</th>\n",
       "      <td>22.709841</td>\n",
       "    </tr>\n",
       "    <tr>\n",
       "      <th>11</th>\n",
       "      <td>24.954921</td>\n",
       "    </tr>\n",
       "    <tr>\n",
       "      <th>12</th>\n",
       "      <td>27.182222</td>\n",
       "    </tr>\n",
       "    <tr>\n",
       "      <th>13</th>\n",
       "      <td>29.424762</td>\n",
       "    </tr>\n",
       "    <tr>\n",
       "      <th>14</th>\n",
       "      <td>31.641905</td>\n",
       "    </tr>\n",
       "    <tr>\n",
       "      <th>15</th>\n",
       "      <td>33.881905</td>\n",
       "    </tr>\n",
       "    <tr>\n",
       "      <th>16</th>\n",
       "      <td>36.129524</td>\n",
       "    </tr>\n",
       "    <tr>\n",
       "      <th>17</th>\n",
       "      <td>38.389841</td>\n",
       "    </tr>\n",
       "    <tr>\n",
       "      <th>18</th>\n",
       "      <td>40.604444</td>\n",
       "    </tr>\n",
       "    <tr>\n",
       "      <th>19</th>\n",
       "      <td>42.852063</td>\n",
       "    </tr>\n",
       "    <tr>\n",
       "      <th>20</th>\n",
       "      <td>45.074286</td>\n",
       "    </tr>\n",
       "    <tr>\n",
       "      <th>21</th>\n",
       "      <td>47.311746</td>\n",
       "    </tr>\n",
       "    <tr>\n",
       "      <th>22</th>\n",
       "      <td>49.536508</td>\n",
       "    </tr>\n",
       "    <tr>\n",
       "      <th>23</th>\n",
       "      <td>51.781587</td>\n",
       "    </tr>\n",
       "    <tr>\n",
       "      <th>24</th>\n",
       "      <td>53.998730</td>\n",
       "    </tr>\n",
       "    <tr>\n",
       "      <th>25</th>\n",
       "      <td>56.236190</td>\n",
       "    </tr>\n",
       "    <tr>\n",
       "      <th>26</th>\n",
       "      <td>58.466032</td>\n",
       "    </tr>\n",
       "    <tr>\n",
       "      <th>27</th>\n",
       "      <td>60.693333</td>\n",
       "    </tr>\n",
       "    <tr>\n",
       "      <th>28</th>\n",
       "      <td>62.938413</td>\n",
       "    </tr>\n",
       "    <tr>\n",
       "      <th>29</th>\n",
       "      <td>65.158095</td>\n",
       "    </tr>\n",
       "    <tr>\n",
       "      <th>30</th>\n",
       "      <td>67.408254</td>\n",
       "    </tr>\n",
       "    <tr>\n",
       "      <th>31</th>\n",
       "      <td>69.627937</td>\n",
       "    </tr>\n",
       "  </tbody>\n",
       "</table>\n",
       "</div>"
      ],
      "text/plain": [
       "    peaks_in_sec\n",
       "0       0.398730\n",
       "1       2.623492\n",
       "2       4.863492\n",
       "3       7.080635\n",
       "4       9.340952\n",
       "5      11.553016\n",
       "6      13.782857\n",
       "7      16.017778\n",
       "8      18.245079\n",
       "9      20.490159\n",
       "10     22.709841\n",
       "11     24.954921\n",
       "12     27.182222\n",
       "13     29.424762\n",
       "14     31.641905\n",
       "15     33.881905\n",
       "16     36.129524\n",
       "17     38.389841\n",
       "18     40.604444\n",
       "19     42.852063\n",
       "20     45.074286\n",
       "21     47.311746\n",
       "22     49.536508\n",
       "23     51.781587\n",
       "24     53.998730\n",
       "25     56.236190\n",
       "26     58.466032\n",
       "27     60.693333\n",
       "28     62.938413\n",
       "29     65.158095\n",
       "30     67.408254\n",
       "31     69.627937"
      ]
     },
     "metadata": {},
     "output_type": "display_data"
    }
   ],
   "source": [
    "# Step 1: Import pandas\n",
    "import pandas as pd\n",
    "\n",
    "# Step 2: Load CSV from URL\n",
    "url = 'https://raw.githubusercontent.com/egorpol/beat_it/main/csv/dufour_manual.csv'\n",
    "df = pd.read_csv(url)\n",
    "\n",
    "# Step 3: Display the first few rows of the DataFrame\n",
    "display(df)\n"
   ]
  },
  {
   "cell_type": "code",
   "execution_count": 4,
   "metadata": {
    "colab": {
     "base_uri": "https://localhost:8080/"
    },
    "executionInfo": {
     "elapsed": 361,
     "status": "ok",
     "timestamp": 1726593008682,
     "user": {
      "displayName": "Egor P",
      "userId": "11648005462717752555"
     },
     "user_tz": -120
    },
    "id": "jeRH40dK71wT",
    "outputId": "19325f56-f614-4207-a0f0-b851bb35b25f"
   },
   "outputs": [
    {
     "name": "stdout",
     "output_type": "stream",
     "text": [
      "[2.2247619  2.24       2.21714286 2.26031746 2.21206349 2.22984127\n",
      " 2.23492063 2.22730159 2.24507937 2.21968254 2.24507937 2.22730159\n",
      " 2.24253968 2.21714286 2.24       2.24761905 2.26031746 2.21460317\n",
      " 2.24761905 2.22222222 2.23746032 2.22476191 2.24507936 2.21714286\n",
      " 2.23746032 2.22984127 2.22730159 2.24507937 2.21968254 2.25015873\n",
      " 2.21968254]\n"
     ]
    }
   ],
   "source": [
    "# Extract time points (replace 'peaks_in_sec' with the actual column name if different)\n",
    "peaks_in_sec = df['peaks_in_sec'].values\n",
    "\n",
    "# Calculate IOIs (differences between consecutive peaks)\n",
    "iois = np.diff(peaks_in_sec)\n",
    "\n",
    "print(iois)"
   ]
  },
  {
   "cell_type": "code",
   "execution_count": 17,
   "metadata": {
    "colab": {
     "base_uri": "https://localhost:8080/"
    },
    "executionInfo": {
     "elapsed": 277,
     "status": "ok",
     "timestamp": 1726594542061,
     "user": {
      "displayName": "Egor P",
      "userId": "11648005462717752555"
     },
     "user_tz": -120
    },
    "id": "iAJsIDDs9q6-",
    "outputId": "ce49ed64-1ec2-408a-bf09-ab14cf407b65"
   },
   "outputs": [
    {
     "name": "stdout",
     "output_type": "stream",
     "text": [
      "Range of IOIs: 0.04825396799999915\n",
      "Minimum IOI: 2.2120634920000004\n",
      "Maximum IOI: 2.2603174599999996\n",
      "Mean of IOIs: 2.2332002048064514\n",
      "Median of IOIs: 2.2298412700000014\n",
      "Average BPM: 26.867273194254487\n"
     ]
    }
   ],
   "source": [
    "# Calculate the range of IOIs (max - min), which gives the spread between the longest and shortest intervals\n",
    "range = np.ptp(iois)\n",
    "\n",
    "# Calculate the mean of the IOIs, representing the average interval between peaks\n",
    "mean = np.mean(iois)\n",
    "\n",
    "# Calculate the median of the IOIs, representing the midpoint value of the intervals\n",
    "median = np.median(iois)\n",
    "\n",
    "# Calculate the average BPM (beats per minute), where BPM is inversely related to the average IOI (60 seconds / mean IOI)\n",
    "bpm = 60 / mean\n",
    "\n",
    "# Calculate the minimum IOI, representing the shortest interval between peaks\n",
    "min_ioi = np.min(iois)\n",
    "\n",
    "# Calculate the maximum IOI, representing the longest interval between peaks\n",
    "max_ioi = np.max(iois)\n",
    "\n",
    "# Print the results\n",
    "print(\"Range of IOIs:\", range)\n",
    "print(\"Minimum IOI:\", min_ioi)\n",
    "print(\"Maximum IOI:\", max_ioi)\n",
    "print(\"Mean of IOIs:\", mean)\n",
    "print(\"Median of IOIs:\", median)\n",
    "print(\"Average BPM:\", bpm)\n",
    "\n"
   ]
  },
  {
   "cell_type": "code",
   "execution_count": 18,
   "metadata": {
    "colab": {
     "base_uri": "https://localhost:8080/",
     "height": 573
    },
    "executionInfo": {
     "elapsed": 1781,
     "status": "ok",
     "timestamp": 1726594750206,
     "user": {
      "displayName": "Egor P",
      "userId": "11648005462717752555"
     },
     "user_tz": -120
    },
    "id": "pKq-hDXhDu0M",
    "outputId": "a4946ecd-9e6b-4c69-f8db-9f05ba6ff1ed"
   },
   "outputs": [
    {
     "data": {
      "image/png": "[encoded data removed]",
      "text/plain": [
       "<Figure size 1000x600 with 1 Axes>"
      ]
     },
     "metadata": {},
     "output_type": "display_data"
    }
   ],
   "source": [
    "# Create an array of onset numbers to match the IOIs\n",
    "numbers = np.arange(1, len(iois) + 1)\n",
    "\n",
    "# Creating a DataFrame to hold onset numbers and IOIs (manual times)\n",
    "data_plot = pd.DataFrame({\"onset_nr\": numbers, \"time_manual\": iois})\n",
    "\n",
    "# Plotting the manual IOIs\n",
    "plt.figure(figsize=(10, 6))\n",
    "\n",
    "# Use scatterplot to visualize IOIs (manual cues)\n",
    "sns.scatterplot(x=\"onset_nr\", y=\"time_manual\", data=data_plot, label=\"Manual Cues\", marker=\"o\", color=\"blue\")\n",
    "\n",
    "# Add legend, labels, and title to the plot\n",
    "plt.legend(loc=\"upper right\")\n",
    "plt.xlabel(\"Onset Number\")  # X-axis label\n",
    "plt.ylabel(\"Time Difference (s)\")  # Y-axis label\n",
    "plt.title(\"Visualization of IOIs\")  # Plot title\n",
    "\n",
    "# Show the plot\n",
    "plt.show()"
   ]
  },
  {
   "cell_type": "code",
   "execution_count": 23,
   "metadata": {
    "colab": {
     "base_uri": "https://localhost:8080/",
     "height": 662
    },
    "executionInfo": {
     "elapsed": 668,
     "status": "ok",
     "timestamp": 1726595495277,
     "user": {
      "displayName": "Egor P",
      "userId": "11648005462717752555"
     },
     "user_tz": -120
    },
    "id": "EblU36qjEczs",
    "outputId": "ca7927f8-b279-4929-ddaf-f8608c3631c6"
   },
   "outputs": [
    {
     "data": {
      "image/png": "[encoded data removed]",
      "text/plain": [
       "<Figure size 1000x600 with 1 Axes>"
      ]
     },
     "metadata": {},
     "output_type": "display_data"
    },
    {
     "data": {
      "text/plain": [
       "{'Slope': 1.1264722983904362e-05,\n",
       " 'Intercept': 2.233019969238709,\n",
       " 'R-squared': 5.7619068638825524e-05,\n",
       " 'P-value': 0.9676729255262038,\n",
       " 'Standard Error': 0.00027556616235645183}"
      ]
     },
     "execution_count": 23,
     "metadata": {},
     "output_type": "execute_result"
    }
   ],
   "source": [
    "from scipy import stats\n",
    "\n",
    "# Regression Analysis for Manual Data\n",
    "# Using scipy to get the slope, intercept, r_value, p_value, std_err\n",
    "slope_manual, intercept_manual, r_value_manual, p_value_manual, std_err_manual = stats.linregress(data_plot['onset_nr'], data_plot['time_manual'])\n",
    "\n",
    "# Compute the R-squared value for manual data\n",
    "r_squared_manual = r_value_manual ** 2\n",
    "\n",
    "# Organize the regression results into a structured format\n",
    "regression_results_manual = {\n",
    "    'Slope': slope_manual,\n",
    "    'Intercept': intercept_manual,\n",
    "    'R-squared': r_squared_manual,\n",
    "    'P-value': p_value_manual,\n",
    "    'Standard Error': std_err_manual\n",
    "}\n",
    "\n",
    "# Plotting the regression line with seaborn, including the confidence interval\n",
    "plt.figure(figsize=(10, 6))\n",
    "\n",
    "# `ci=95` adds the 95% confidence interval to the regression line\n",
    "sns.regplot(x=\"onset_nr\", y=\"time_manual\", data=data_plot, line_kws={\"color\":\"red\"}, ci=95)\n",
    "\n",
    "# Plot title and labels\n",
    "plt.title(\"Linear Regression with 95% Confidence Interval for Manual Data\")\n",
    "plt.xlabel(\"Onset Number\")\n",
    "plt.ylabel(\"Time Difference (s)\")\n",
    "\n",
    "# Displaying the equation of the regression line and R-squared on the plot\n",
    "plt.text(0.05, 0.95, f'y = {slope_manual:.6f}x + {intercept_manual:.3f}\\nR² = {r_squared_manual:.3f}',\n",
    "         transform=plt.gca().transAxes, va='top', bbox=dict(facecolor='white', alpha=0.5))\n",
    "\n",
    "# Show the plot\n",
    "plt.show()\n",
    "\n",
    "# Display the regression results\n",
    "regression_results_manual\n"
   ]
  },
  {
   "cell_type": "markdown",
   "metadata": {
    "id": "mS72FKzUHD33"
   },
   "source": [
    "**Key Findings from the Linear Regression:**\n",
    "\n",
    "- A slope value of approximately **1.13e-05** is extremely small, indicating that the `time_manual` values (the IOIs) change very little as `onset_nr` increases. In practical terms, there’s almost no linear relationship between onset number and the time differences.\n",
    "\n",
    "- An R-squared value of approximately **0.0000576** is very close to zero, meaning the linear regression model explains almost none of the variability in the `time_manual` values. In other words, there's almost no linear correlation between `onset_nr` and `time_manual`.\n",
    "\n",
    "- A p-value of **0.9677** is far greater than the typical significance level (e.g., 0.05), meaning that you cannot reject the null hypothesis. There’s no statistically significant linear relationship between the onset number and time intervals (IOIs).\n",
    "\n",
    "**Conclusion:**  \n",
    "The regression analysis suggests there’s **no meaningful linear relationship** between the onset number and the IOIs, as shown by the near-zero slope, high p-value, and very low R-squared.\n"
   ]
  }
 ],
 "metadata": {
  "colab": {
   "authorship_tag": "ABX9TyPPc943IJ+rRmYds0yYOBkh",
   "provenance": []
  },
  "kernelspec": {
   "display_name": "Python 3 (ipykernel)",
   "language": "python",
   "name": "python3"
  },
  "language_info": {
   "codemirror_mode": {
    "name": "ipython",
    "version": 3
   },
   "file_extension": ".py",
   "mimetype": "text/x-python",
   "name": "python",
   "nbconvert_exporter": "python",
   "pygments_lexer": "ipython3",
   "version": "3.12.4"
  }
 },
 "nbformat": 4,
 "nbformat_minor": 4
}
